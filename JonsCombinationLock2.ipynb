{
 "cells": [
  {
   "cell_type": "code",
   "execution_count": 1,
   "id": "02f4074e",
   "metadata": {},
   "outputs": [],
   "source": [
    "### HILBERT LOCK ###\n",
    "#\n",
    "# Jon's \"tracer bullet\" April 14, 2025\n",
    "#\n",
    "# jonathan.kaufman@quantumburgh.com\n",
    "#\n",
    "# Start with a weak combination lock, and then gradually\n",
    "# dial down its weakness until its energy landscape vanishes\n",
    "# everywhere except at a single point: the combination.\n",
    "# And maybe suppose n-dials-of-k (where k is prime)."
   ]
  },
  {
   "cell_type": "code",
   "execution_count": 2,
   "id": "424d6957",
   "metadata": {},
   "outputs": [],
   "source": [
    "from IPython.display import display, Math\n",
    "from itertools import product\n",
    "\n",
    "class HLock:\n",
    "        \n",
    "    def __init__(self):\n",
    "        #algebraic group Z_3^5\n",
    "        self.k = 5 # must be prime if assuming field axioms\n",
    "        self.n = 3\n",
    "        self.code = (0,0,0) # structure is isomorphic to any code\n",
    "        self.degeneracy = [1, 6, 18, 32, 36, 24, 8] # triple self convolution of Z_5\n",
    "    \n",
    "    def norm(self, setting: tuple) -> int:\n",
    "        #Banach space\n",
    "        #Manhattan distance\n",
    "        #zero = (0,0,0)\n",
    "        s = setting # abreviation going forward\n",
    "        a, b, c = s\n",
    "        d = lambda x: min(x, self.k-x)\n",
    "        return d(a) + d(b) + d(c)\n",
    "    \n",
    "    def add(self, s1: tuple, s2: tuple) -> tuple:\n",
    "        #group operation\n",
    "        #modulo k\n",
    "        return tuple((x + y) % self.k for x, y in zip(s1, s2))\n",
    "    \n",
    "    def neg(self, s: tuple) -> tuple:\n",
    "        #group inverse\n",
    "        k = self.k\n",
    "        a, b, c = s\n",
    "        return tuple(((k-a)%k, (k-b)%k, (k-c)%k))\n",
    "    \n",
    "    def diff(self, s1: tuple, s2: tuple) -> tuple:\n",
    "        #add a neg\n",
    "        p1 = s1\n",
    "        p2 = s2\n",
    "        n2 = self.neg(p2)\n",
    "        return self.add(p1,n2)\n",
    "    \n",
    "    def metric(self, s1: tuple, s2: tuple) -> int:\n",
    "        #metric space\n",
    "        d12 = self.diff(s1, s2)\n",
    "        return self.norm(d12)\n",
    "    \n",
    "    def mult(self, a: int, s: tuple) -> tuple:\n",
    "        #algebraic ring\n",
    "        #scalar * vector\n",
    "        k = self.k\n",
    "        x, y, z = s\n",
    "        return tuple(((a*x)%k, (a*y)%k, (a*z)%k))\n",
    "\n",
    "    def dot(self, s1: tuple, s2: tuple) -> int:\n",
    "        #pseudo-Hilbert\n",
    "        #inner (dot) product\n",
    "        k = self.k\n",
    "        a, b, c = s1\n",
    "        x, y, z = s2\n",
    "        return (((a*x)%k + (b*y)%k + (c*z)%k)%k)\n",
    "    \n",
    "    def dual(self, s: tuple) -> tuple:\n",
    "        #bra (as in bra-ket)\n",
    "        return s\n",
    "    \n",
    "    def weak_field(self, s: tuple) -> int:\n",
    "        #error (potential energy)\n",
    "        return self.metric(self.code, s)\n",
    "\n",
    "    def stratum(self, level):\n",
    "        #energy level\n",
    "        k=self.k\n",
    "        s = set()\n",
    "        for xyz in product(range(k), repeat=3):\n",
    "            if self.weak_field(xyz) == level:\n",
    "                s.add(xyz)\n",
    "        return s\n",
    "\n",
    "    def neighbors(self, s: tuple) -> set:\n",
    "        #Manhattan distance = 1\n",
    "        ss = set()\n",
    "        a, b, c = s\n",
    "        return{(a+1,b,c),(a-1,b,c),(a,b+1,c),(a,b-1,c),(a,b,c+1),(a,b,c-1)}\n",
    "    \n",
    "    @classmethod\n",
    "    def test(cls):\n",
    "        #method tests\n",
    "        l = cls() #instance\n",
    "        p = '\\033[92m'+'pass'+'\\033[0m'\n",
    "        f = '\\033[91m'+'fail'+'\\033[0m'\n",
    "        print()\n",
    "        print('testing space: ', end=' ')\n",
    "        display(Math(r'\\mathbb{Z}_5^3'))\n",
    "        print('norm():       ', p if l.norm((1,2,3))            ==       5  else f)\n",
    "        print('add():        ', p if l.add((1,2,3), (2,3,1))    == (3,0,4)  else f)\n",
    "        print('neg():        ', p if l.neg((1,2,3))             == (4,3,2)  else f)\n",
    "        print('mult():       ', p if l.mult(2, (1,2,3))         == (2,4,1)  else f)\n",
    "        print('diff():       ', p if l.diff((1,2,3), (2,1,3))   == (4,1,0)  else f)\n",
    "        print('metric():     ', p if l.metric((1,2,3), (2,2,3)) ==       1  else f)\n",
    "        print('dot():        ', p if l.dot((0,1,1), (1,2,3))    ==       0  else f)\n",
    "        print('dual():       ', p if l.dual((1,2,3))            == (1,2,3)  else f)\n",
    "        print('weak_field(): ', p if l.weak_field((2,2,1))      ==       5  else f)\n",
    "        print('stratum():    ', p if len(l.stratum(4))          ==      36  else f)\n",
    "        print('neighbors():  ', p if (0, 0, 3) in l.neighbors((0,0,4))      else f)\n",
    "        print()"
   ]
  },
  {
   "cell_type": "code",
   "execution_count": 3,
   "id": "2180ed50-0b50-49d2-9b70-9f49b95ba9db",
   "metadata": {},
   "outputs": [
    {
     "name": "stdout",
     "output_type": "stream",
     "text": [
      "\n",
      "testing space:  "
     ]
    },
    {
     "data": {
      "text/latex": [
       "$\\displaystyle \\mathbb{Z}_5^3$"
      ],
      "text/plain": [
       "<IPython.core.display.Math object>"
      ]
     },
     "metadata": {},
     "output_type": "display_data"
    },
    {
     "name": "stdout",
     "output_type": "stream",
     "text": [
      "norm():        \u001b[92mpass\u001b[0m\n",
      "add():         \u001b[92mpass\u001b[0m\n",
      "neg():         \u001b[92mpass\u001b[0m\n",
      "mult():        \u001b[92mpass\u001b[0m\n",
      "diff():        \u001b[92mpass\u001b[0m\n",
      "metric():      \u001b[92mpass\u001b[0m\n",
      "dot():         \u001b[92mpass\u001b[0m\n",
      "dual():        \u001b[92mpass\u001b[0m\n",
      "weak_field():  \u001b[92mpass\u001b[0m\n",
      "stratum():     \u001b[92mpass\u001b[0m\n",
      "neighbors():   \u001b[92mpass\u001b[0m\n",
      "\n"
     ]
    }
   ],
   "source": [
    "l=HLock()\n",
    "l.test()"
   ]
  }
 ],
 "metadata": {
  "kernelspec": {
   "display_name": "Python 3 (ipykernel)",
   "language": "python",
   "name": "python3"
  },
  "language_info": {
   "codemirror_mode": {
    "name": "ipython",
    "version": 3
   },
   "file_extension": ".py",
   "mimetype": "text/x-python",
   "name": "python",
   "nbconvert_exporter": "python",
   "pygments_lexer": "ipython3",
   "version": "3.9.6"
  }
 },
 "nbformat": 4,
 "nbformat_minor": 5
}
